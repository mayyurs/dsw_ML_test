{
  "nbformat": 4,
  "nbformat_minor": 0,
  "metadata": {
    "colab": {
      "provenance": []
    },
    "kernelspec": {
      "name": "python3",
      "display_name": "Python 3"
    },
    "language_info": {
      "name": "python"
    }
  },
  "cells": [
    {
      "cell_type": "code",
      "source": [
        "# Import necessary libraries\n",
        "import pandas as pd\n",
        "from sklearn.model_selection import train_test_split\n",
        "from sklearn.metrics import accuracy_score, classification_report\n",
        "from model_random_forest import RandomForestModel\n",
        "from model_ann import ANNModel"
      ],
      "metadata": {
        "id": "BPAuubMhrcCk"
      },
      "execution_count": null,
      "outputs": []
    },
    {
      "cell_type": "code",
      "source": [
        "# Load the data\n",
        "historic_data = pd.read_csv('historic.csv')\n",
        "prediction_input_data = pd.read_csv('prediction_input.csv')"
      ],
      "metadata": {
        "id": "jjYEzdWPrd0s"
      },
      "execution_count": null,
      "outputs": []
    },
    {
      "cell_type": "code",
      "source": [
        "# Model Selection Pipeline\n",
        "def model_selection(model):\n",
        "    # Load data\n",
        "    model.load('historic.csv')\n",
        "\n",
        "    # Preprocess data\n",
        "    model.preprocess()\n",
        "\n",
        "    # Train model\n",
        "    model.train()\n",
        "\n",
        "    # Test model\n",
        "    print(\"Model Evaluation:\")\n",
        "    model.test()"
      ],
      "metadata": {
        "id": "4lrVRrXSrhqM"
      },
      "execution_count": null,
      "outputs": []
    },
    {
      "cell_type": "code",
      "source": [
        "# Initialize models\n",
        "random_forest_model = RandomForestModel()\n",
        "ann_model = ANNModel()\n",
        "\n",
        "# Run model selection pipeline for Random Forest\n",
        "print(\"\\nRandom Forest Model:\")\n",
        "model_selection(random_forest_model)\n",
        "\n",
        "# Run model selection pipeline for ANN\n",
        "print(\"\\nArtificial Neural Network Model:\")\n",
        "model_selection(ann_model)"
      ],
      "metadata": {
        "colab": {
          "base_uri": "https://localhost:8080/"
        },
        "id": "zLiP_ExQroaE",
        "outputId": "946b2b8a-bb94-4b59-a262-6c89e0969273"
      },
      "execution_count": null,
      "outputs": [
        {
          "output_type": "stream",
          "name": "stdout",
          "text": [
            "\n",
            "Random Forest Model:\n",
            "Model Evaluation:\n",
            "Accuracy: 0.823125\n",
            "Classification Report:\n",
            "              precision    recall  f1-score   support\n",
            "\n",
            "        flop       0.80      0.68      0.73       571\n",
            "         top       0.84      0.90      0.87      1029\n",
            "\n",
            "    accuracy                           0.82      1600\n",
            "   macro avg       0.82      0.79      0.80      1600\n",
            "weighted avg       0.82      0.82      0.82      1600\n",
            "\n",
            "\n",
            "Artificial Neural Network Model:\n",
            "Model Evaluation:\n",
            "Accuracy: 0.8375\n",
            "Classification Report:\n",
            "              precision    recall  f1-score   support\n",
            "\n",
            "        flop       0.82      0.69      0.75       571\n",
            "         top       0.84      0.92      0.88      1029\n",
            "\n",
            "    accuracy                           0.84      1600\n",
            "   macro avg       0.83      0.81      0.82      1600\n",
            "weighted avg       0.84      0.84      0.83      1600\n",
            "\n"
          ]
        }
      ]
    },
    {
      "cell_type": "markdown",
      "source": [
        "# Based on the evaluation metrics and other factors, ANN is the better model."
      ],
      "metadata": {
        "id": "D23hEiHDsodu"
      }
    },
    {
      "cell_type": "markdown",
      "source": [
        "The ANN model exhibits superior accuracy compared to the Random Forest model. Accuracy is a crucial metric in classification tasks as it measures the overall correctness of predictions."
      ],
      "metadata": {
        "id": "BSjFuYdMsgpW"
      }
    },
    {
      "cell_type": "markdown",
      "source": [
        "A higher accuracy suggests that the ANN model can better classify products as top or flop, which is essential for the e-commerce company's decision-making process."
      ],
      "metadata": {
        "id": "56lTUlpC2ZJo"
      }
    },
    {
      "cell_type": "markdown",
      "source": [
        "Artificial Neural Networks are capable of capturing complex relationships within the data, especially when dealing with non-linear relationships between features and the target variable.\n"
      ],
      "metadata": {
        "id": "DyJGS-BrtBHv"
      }
    },
    {
      "cell_type": "markdown",
      "source": [
        "ANNs offer opportunities for further optimization and fine-tuning through hyperparameter tuning, architecture modifications, and regularization techniques. With additional experimentation and optimization, the ANN model's performance can potentially be further improved."
      ],
      "metadata": {
        "id": "sUTJigz7tDPn"
      }
    }
  ]
}